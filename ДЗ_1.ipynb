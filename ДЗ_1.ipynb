{
  "nbformat": 4,
  "nbformat_minor": 0,
  "metadata": {
    "colab": {
      "provenance": []
    },
    "kernelspec": {
      "name": "python3",
      "display_name": "Python 3"
    },
    "language_info": {
      "name": "python"
    }
  },
  "cells": [
    {
      "cell_type": "code",
      "source": [
        "import requests\n",
        "from pprint import pprint"
      ],
      "metadata": {
        "id": "YiYVQl-yMFLi"
      },
      "execution_count": null,
      "outputs": []
    },
    {
      "cell_type": "code",
      "source": [
        "response = requests.get(\"https://api.github.com/\")\n",
        "pprint(response.json())"
      ],
      "metadata": {
        "id": "aLAa8tKpMOVH"
      },
      "execution_count": null,
      "outputs": []
    },
    {
      "cell_type": "code",
      "source": [
        "user = 'ValentinMyasnikov'"
      ],
      "metadata": {
        "id": "KRtYmcgNPsKV"
      },
      "execution_count": null,
      "outputs": []
    },
    {
      "cell_type": "code",
      "source": [
        "url_2 = f\"https://api.github.com/users/{user}/repos\""
      ],
      "metadata": {
        "id": "0bEZTIUmPadD"
      },
      "execution_count": null,
      "outputs": []
    },
    {
      "cell_type": "code",
      "source": [
        "response_2 = requests.get(url_2).json()"
      ],
      "metadata": {
        "id": "waB8lB8wPY1r"
      },
      "execution_count": null,
      "outputs": []
    },
    {
      "cell_type": "code",
      "source": [
        "for x in response_2:\n",
        "    print(x['name'])"
      ],
      "metadata": {
        "colab": {
          "base_uri": "https://localhost:8080/"
        },
        "id": "lnbb25qRQFPh",
        "outputId": "2ff0695c-bd69-4853-ed86-cc6a66d2dc7a"
      },
      "execution_count": null,
      "outputs": [
        {
          "output_type": "stream",
          "name": "stdout",
          "text": [
            "-Python\n",
            "BasicPython\n",
            "HomeworkBasicPython\n",
            "Numpy-Matplotlib-Scikit-learn\n"
          ]
        }
      ]
    }
  ]
}